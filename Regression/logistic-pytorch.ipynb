{
 "metadata": {
  "language_info": {
   "codemirror_mode": {
    "name": "ipython",
    "version": 3
   },
   "file_extension": ".py",
   "mimetype": "text/x-python",
   "name": "python",
   "nbconvert_exporter": "python",
   "pygments_lexer": "ipython3",
   "version": 3
  },
  "orig_nbformat": 2,
  "kernelspec": {
   "name": "python_defaultSpec_1596330204729",
   "display_name": "Python 3.8.3 64-bit"
  }
 },
 "nbformat": 4,
 "nbformat_minor": 2,
 "cells": [
  {
   "cell_type": "markdown",
   "metadata": {},
   "source": [
    "# Logistic Regression (PyTorch)\n",
    "\n",
    "\n",
    "Linear regression is to take $x$ and predict $\\hat{y}$. $\\hat{y}$ is \"unfiltered\" raw value. In real life, we often want to have binary prediction - fail or pass? spam or not? hire or no hire. In those cases, the $\\hat{y}$ is often needs to be transformed, The sigmoid is such a function that can transform. The basic form of sigmoid has been discussed [here](../DL/activation_functions.ipynb)."
   ]
  },
  {
   "cell_type": "markdown",
   "metadata": {},
   "source": [
    "## Compare linear vs. logistic\n",
    "\n",
    "![logistic vs linear](../figs/logistic_vs_linear.png)\n",
    "\n",
    "\n",
    "The loss function, known as Binary Cross Entropy Loss (BCE), works better than MSE in this case. All loss function needs to share a common trait:\n",
    "* when (y_pred - y) goes up, loss goes up\n",
    "* when (y_pred - y) goes down, loss goes down\n",
    "\n",
    "We can verify that BCE has this charateristic as well.\n",
    "\n"
   ]
  },
  {
   "cell_type": "markdown",
   "metadata": {},
   "source": [
    "## Implement logistic regression\n",
    "\n",
    "Note: this implementaton requires improvement, it did poorly for the following dataset.\n",
    "\n",
    "```\n",
    "# hire or no hire\n",
    "x_data = Variable(torch.Tensor([[65.0], [80.0], [90.0], [30.0]]))\n",
    "y_data = Variable(torch.Tensor([[0.0], [1.0], [1.0], [0.0]]))\n",
    "```\n"
   ]
  },
  {
   "cell_type": "code",
   "execution_count": 29,
   "metadata": {
    "tags": []
   },
   "outputs": [],
   "source": [
    "import torch\n",
    "from torch.autograd import Variable\n",
    "import torch.nn.functional as F\n",
    "\n",
    "\n",
    "x_data = Variable(torch.Tensor([[1.0], [2.0], [3.0], [4.0]]))\n",
    "y_data = Variable(torch.Tensor([[0.0], [0.0], [1.0], [1.0]]))\n",
    "\n",
    "class Model(torch.nn.Module):\n",
    "    def __init__(self):\n",
    "        super(Model, self).__init__()\n",
    "        self.linear = torch.nn.Linear(1, 1) # A linear model, one in and one out\n",
    "\n",
    "    def forward(self, x):\n",
    "        \"\"\"\n",
    "        forward accept an input, return an output\n",
    "        we can use any model, but here, we just use pre-defined torch.nn.Linear\n",
    "        which is assigned in the self.linear\n",
    "        \"\"\"\n",
    "        y_pred = F.sigmoid(self.linear(x)) \n",
    "        return y_pred \n",
    "\n",
    "model = Model()\n",
    "\n",
    "criterion = torch.nn.BCELoss(size_average=True)\n",
    "optimizer = torch.optim.SGD(model.parameters(), lr=0.01)\n",
    "\n",
    "# training loop\n",
    "\n",
    "for epoch in range(5000):\n",
    "    # forward pass\n",
    "    y_pred = model(x_data)\n",
    "\n",
    "    # compute and print loss\n",
    "    loss = criterion(y_pred, y_data)\n",
    "\n",
    "    # zero gradient\n",
    "    optimizer.zero_grad()\n",
    "    loss.backward()\n",
    "    optimizer.step()  # update \n"
   ]
  },
  {
   "cell_type": "code",
   "execution_count": 31,
   "metadata": {
    "tags": []
   },
   "outputs": [
    {
     "output_type": "stream",
     "name": "stdout",
     "text": "Pass: False\nPass: True\n"
    }
   ],
   "source": [
    "# after training\n",
    "\n",
    "hour1 = Variable(torch.Tensor([[1.0]]))\n",
    "print(f\"Pass: {model(hour1).data[0][0] > 0.5}\")\n",
    "hour2 = Variable(torch.Tensor([[7.0]]))\n",
    "print(f\"Pass: {model(hour2).data[0][0] > 0.5}\")\n"
   ]
  },
  {
   "cell_type": "markdown",
   "metadata": {},
   "source": [
    "## Go wide\n",
    "\n",
    "Previous example is taking a single $x$ value as input; it doesn't have to. You can think input as a matrix, with column as features, rows as observations. and $X \\cdot W$ as matrix productions. \n",
    "\n",
    "The basic flow is the same:\n",
    "\n",
    "![multiple inputs](../figs/deep_wide1.png)\n"
   ]
  },
  {
   "cell_type": "markdown",
   "metadata": {},
   "source": [
    "## Go deep\n",
    "\n",
    "We are also not restricted to a single layer.\n",
    "With the exception of fixing input width and output, you can add many layers in between. As seen below.\n",
    "\n",
    "![deep](../figs/deep_wide2.png)\n",
    "\n",
    "How should you construct the network in between is the million dollar question."
   ]
  }
 ]
}