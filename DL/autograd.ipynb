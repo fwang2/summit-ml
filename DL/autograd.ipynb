{
 "metadata": {
  "language_info": {
   "codemirror_mode": {
    "name": "ipython",
    "version": 3
   },
   "file_extension": ".py",
   "mimetype": "text/x-python",
   "name": "python",
   "nbconvert_exporter": "python",
   "pygments_lexer": "ipython3",
   "version": 3
  },
  "orig_nbformat": 2,
  "kernelspec": {
   "name": "python_defaultSpec_1596296322824",
   "display_name": "Python 3.8.3 64-bit ('deep': conda)"
  }
 },
 "nbformat": 4,
 "nbformat_minor": 2,
 "cells": [
  {
   "cell_type": "markdown",
   "metadata": {},
   "source": [
    "# Back Propapation, Compute Graph, and Autograd\n",
    "\n",
    "This note is built on top of basic understanding of \n",
    "[gradient descent](gd-general.ipynb) and [chain rules](chain-rule.ipynb).\n",
    "\n",
    "We start with training data pair $(x,y)$, that is, given $x$, we want to predict $\\hat{y}$ and we want to train weight $w$.\n",
    "\n",
    "$$\\hat{y} = x \\cdot w $$\n",
    "\n",
    "This is driven by the loss function we define:\n",
    "\n",
    "$$\\text{loss} = (\\hat{y} -y) ^ 2 = (x\\cdot w - y)^2$$\n",
    "\n",
    "\n",
    "\n",
    "## Compute Graph\n",
    "\n",
    "A computational graph can be built based on this:\n",
    "\n",
    "![compute graph](../figs/bp-compute-graph.png)\n",
    "\n",
    "\n",
    "The **operators** involved in this compute graph are:\n",
    "* multiplication\n",
    "* subtraction\n",
    "* squared\n",
    "\n",
    "We need derivative for each of them so we can compute **local graidients**, which will help compute the $\\dfrac{\\partial{L}}{\\partial{w}}$.\n",
    "\n",
    "## Local gradient\n",
    "\n",
    "Note: we don't need to compute local graident for $x$ and $y$ as they are not changable.\n",
    "\n",
    "\n",
    "### multiplication\n",
    "\n",
    "$$\\frac{\\partial{\\hat{y}}}{\\partial{w}}  = \\frac{\\partial{(xw)}}{\\partial{w}} = x $$\n",
    "\n",
    "### subtraction\n",
    "\n",
    "$$\\frac{\\partial{s}}{\\partial{\\hat{y}}} = \\frac{\\partial{(\\hat{y} - y)}}{\\partial{\\hat{y}}} = 1 $$\n",
    "\n",
    "### squared\n",
    "\n",
    "$$\\frac{\\partial{L}}{\\partial{s}} = \\frac{\\partial{(s^2)}}{\\partial{s}} = 2s $$\n",
    "\n",
    "\n",
    "\n",
    "\n"
   ]
  },
  {
   "cell_type": "markdown",
   "metadata": {},
   "source": [
    "\n",
    "## Forward Propapation\n",
    "\n",
    "Assume x = 1, w = 1, y = 2, we can do forward propapation\n"
   ]
  },
  {
   "cell_type": "code",
   "execution_count": 21,
   "metadata": {
    "tags": []
   },
   "outputs": [
    {
     "output_type": "stream",
     "name": "stdout",
     "text": "y_pred= 1\ns =  -1\nloss =  1\n"
    }
   ],
   "source": [
    "\n",
    "def forward(x, w, y):\n",
    "    y_pred = x * w \n",
    "    print(\"y_pred=\", y_pred)\n",
    "    s =  y_pred - y \n",
    "    print(\"s = \", s)\n",
    "    loss = (s) ** 2\n",
    "    print(\"loss = \", loss)\n",
    "    return y_pred, s, loss \n",
    "x = 1; w = 1; y = 2\n",
    "y_pred, s, loss = forward(x, w, y)\n"
   ]
  },
  {
   "cell_type": "markdown",
   "metadata": {},
   "source": [
    "## Back Propagation"
   ]
  },
  {
   "cell_type": "code",
   "execution_count": 22,
   "metadata": {
    "tags": []
   },
   "outputs": [
    {
     "output_type": "stream",
     "name": "stdout",
     "text": "dloss_dw = -2\n"
    }
   ],
   "source": [
    "\n",
    "\n",
    "def backprop(loss):\n",
    "\n",
    "    # step 1\n",
    "    dloss_ds = 2 * s \n",
    "    ds_dy_pred = 1 \n",
    "\n",
    "    # step 2\n",
    "    dloss_dy_pred = dloss_ds * ds_dy_pred \n",
    "\n",
    "    # step 3\n",
    "    dy_pred_dw = x \n",
    "    dloss_dw = dloss_dy_pred * dy_pred_dw  \n",
    "\n",
    "    return dloss_dw\n",
    "\n",
    "dloss_dw = backprop(loss)\n",
    "print(f\"dloss_dw = {dloss_dw}\")\n"
   ]
  },
  {
   "cell_type": "markdown",
   "metadata": {},
   "source": [
    "Above steps are captured by this diagram:\n",
    "\n",
    "![compute graph](../figs/bp-steps.png)"
   ]
  },
  {
   "cell_type": "markdown",
   "metadata": {},
   "source": [
    "## Using pytorch to simplify\n",
    "\n"
   ]
  },
  {
   "cell_type": "code",
   "execution_count": 18,
   "metadata": {
    "tags": []
   },
   "outputs": [
    {
     "output_type": "stream",
     "name": "stdout",
     "text": "x=1.0, y=2.0, grad=-2.0\nx=2.0, y=4.0, grad=-7.840000152587891\nx=3.0, y=6.0, grad=-16.228801727294922\nepoch=0, loss=7.315943717956543\nx=1.0, y=2.0, grad=-1.478623867034912\nx=2.0, y=4.0, grad=-5.796205520629883\nx=3.0, y=6.0, grad=-11.998146057128906\nepoch=1, loss=3.9987640380859375\nx=1.0, y=2.0, grad=-1.0931644439697266\nx=2.0, y=4.0, grad=-4.285204887390137\nx=3.0, y=6.0, grad=-8.870372772216797\nepoch=2, loss=2.1856532096862793\nx=1.0, y=2.0, grad=-0.8081896305084229\nx=2.0, y=4.0, grad=-3.1681032180786133\nx=3.0, y=6.0, grad=-6.557973861694336\nepoch=3, loss=1.1946394443511963\nx=1.0, y=2.0, grad=-0.5975041389465332\nx=2.0, y=4.0, grad=-2.3422164916992188\nx=3.0, y=6.0, grad=-4.848389625549316\nepoch=4, loss=0.6529689431190491\nx=1.0, y=2.0, grad=-0.4417421817779541\nx=2.0, y=4.0, grad=-1.7316293716430664\nx=3.0, y=6.0, grad=-3.58447265625\nepoch=5, loss=0.35690122842788696\nx=1.0, y=2.0, grad=-0.3265852928161621\nx=2.0, y=4.0, grad=-1.2802143096923828\nx=3.0, y=6.0, grad=-2.650045394897461\nepoch=6, loss=0.195076122879982\nx=1.0, y=2.0, grad=-0.24144840240478516\nx=2.0, y=4.0, grad=-0.9464778900146484\nx=3.0, y=6.0, grad=-1.9592113494873047\nepoch=7, loss=0.10662525147199631\nx=1.0, y=2.0, grad=-0.17850565910339355\nx=2.0, y=4.0, grad=-0.699742317199707\nx=3.0, y=6.0, grad=-1.4484672546386719\nepoch=8, loss=0.0582793727517128\nx=1.0, y=2.0, grad=-0.1319713592529297\nx=2.0, y=4.0, grad=-0.5173273086547852\nx=3.0, y=6.0, grad=-1.070866584777832\nepoch=9, loss=0.03185431286692619\n"
    }
   ],
   "source": [
    "import torch \n",
    "from torch.autograd import Variable\n",
    "\n",
    "x_data = [1.0, 2.0, 3.0]\n",
    "y_data = [2.0, 4.0, 6.0]\n",
    "w = Variable(torch.Tensor([1.0]), requires_grad=True)\n",
    "\n",
    "\n",
    "def forward(x):\n",
    "    return x * w \n",
    "\n",
    "def loss(x,y):\n",
    "    y_pred = forward(x)\n",
    "    return (y_pred - y) * (y_pred - y)\n",
    "\n",
    "for epoch in range(10):\n",
    "    for x_val, y_val in zip(x_data, y_data):\n",
    "        l = loss(x_val, y_val)\n",
    "        l.backward()\n",
    "        print(f\"x={x_val}, y={y_val}, grad={w.grad.data[0]}\")\n",
    "        w.data = w.data - 0.01 * w.grad.data \n",
    "\n",
    "        # manually zero gradient after updating weights\n",
    "        w.grad.data.zero_()\n",
    "    print(f\"epoch={epoch}, loss={l.data[0]}\")\n",
    "\n"
   ]
  },
  {
   "cell_type": "code",
   "execution_count": 12,
   "metadata": {},
   "outputs": [
    {
     "output_type": "execute_result",
     "data": {
      "text/plain": "torch.Size([20, 20])"
     },
     "metadata": {},
     "execution_count": 12
    }
   ],
   "source": [
    "W_x.shape"
   ]
  },
  {
   "cell_type": "code",
   "execution_count": null,
   "metadata": {},
   "outputs": [],
   "source": []
  }
 ]
}