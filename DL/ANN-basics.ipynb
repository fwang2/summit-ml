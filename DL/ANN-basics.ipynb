{
 "cells": [
  {
   "cell_type": "markdown",
   "metadata": {},
   "source": [
    "\n",
    "# What is learning?\n",
    "\n",
    "ANN learning is about error attribution: if we can identify and quantify errors, then we can reduce errors. The end result is we (or network) learned. The way we identify errors is mostly **compare** - by comparing prediction output with labels.\n",
    "\n",
    "\n",
    "## How do we measure error?\n",
    "\n",
    "one way is \"mean error square\":\n",
    "\n",
    "```\n",
    "goal_pred = 0.2\n",
    "pred = 0.3\n",
    "error = (pred - goal_pred) ** 2\n",
    "```\n",
    "\n",
    "There are two points to note here:\n",
    "* If we define our goal is to make error = 0. Think of this scenario: the first input give error of +1, second input give error of -1, and your average error = 0. That is *not* what we want. Therefore, the error is always positive, negative error doesn't make sense. it makes sure of it by squaring it. \n",
    "* It amplifies bigger error, and reduce smaller error, which is okay. It could be the properties that we actually want.\n",
    "\n",
    "\n",
    "\n",
    "\n",
    "\n",
    "We need to learn 3 things:\n",
    "\n",
    "1. Neuron\n",
    "2. How Neuron connects to make forward propgation\n",
    "3. How back propagation works\n"
   ]
  },
  {
   "cell_type": "markdown",
   "metadata": {},
   "source": [
    "## Neuron\n",
    "\n",
    "<img src=\"../figs/neuron.png\" width=\"640\">\n",
    "\n",
    "what is happening?\n",
    "\n",
    "* Each input is multiplifed by a weight, add up, then add another value called bias.\n",
    "* This \"weighted input\" is passed on to \"activation function\", $f$\n",
    "* Why $f$? we want to constrain the output value to a certain range.\n",
    "\n",
    "\n"
   ]
  },
  {
   "cell_type": "markdown",
   "metadata": {},
   "source": [
    "## Activation function: sigmoid\n",
    "\n",
    "$$f(x) = \\frac{1}{1 + e^{-x}}$$"
   ]
  },
  {
   "cell_type": "code",
   "execution_count": 8,
   "metadata": {},
   "outputs": [
    {
     "data": {
      "text/plain": [
       "[<matplotlib.lines.Line2D at 0x7ff6492c4b38>]"
      ]
     },
     "execution_count": 8,
     "metadata": {},
     "output_type": "execute_result"
    },
    {
     "data": {
      "image/png": "[encoded data removed]",
      "text/plain": [
       "<Figure size 432x288 with 1 Axes>"
      ]
     },
     "metadata": {
      "needs_background": "light"
     },
     "output_type": "display_data"
    }
   ],
   "source": [
    "import numpy as np\n",
    "import matplotlib.pyplot as plt\n",
    "%matplotlib inline\n",
    "\n",
    "def sigmoid(x):\n",
    "    return 1/(1 + np.exp(-x))\n",
    "\n",
    "x = np.arange(-10,10)\n",
    "plt.plot(x, sigmoid(x))\n"
   ]
  },
  {
   "cell_type": "markdown",
   "metadata": {},
   "source": [
    "## Coding Neuron: feedforward\n",
    "\n",
    "Assume $w_1 = 0.2$, $w_2=0.8$ , $b = 5$, neuron input $x_1 = 3$, $x_2=5$ then: \n",
    "\\begin{align}\n",
    "w \\cdot x + b &= (w_1 * x_1) + (w_2 * x_2) + b \\\\\n",
    "                &= 0.2 * 3 + 0.8 * 5 + 5 \\\\\n",
    "                &= 9.6\n",
    "\\end{align}\n",
    "\n",
    "\n",
    "Now, activation function:\n",
    "\n",
    "$$ f(9.6) = 0.9999322758503804 $$"
   ]
  },
  {
   "cell_type": "code",
   "execution_count": 21,
   "metadata": {},
   "outputs": [
    {
     "data": {
      "text/plain": [
       "0.9999322758503804"
      ]
     },
     "execution_count": 21,
     "metadata": {},
     "output_type": "execute_result"
    }
   ],
   "source": [
    "class Neuron:\n",
    "    def __init__(self, weights, bias):\n",
    "        self.weights = weights\n",
    "        self.bias = bias\n",
    "        \n",
    "    def feedforward(self, inputs):\n",
    "        output = np.dot(self.weights, inputs) + self.bias\n",
    "        return sigmoid(output)\n",
    "\n",
    "weights = np.array([0.2,0.8])\n",
    "bias = 5\n",
    "n = Neuron(weights, bias)\n",
    "x = np.array([3,5])\n",
    "n.feedforward(x)"
   ]
  },
  {
   "cell_type": "markdown",
   "metadata": {
    "toc-hr-collapsed": true
   },
   "source": [
    "# Build Network with Neurons\n",
    "\n",
    "Here we show a neural network built with 3 neurons.\n",
    "\n",
    "<img src=\"../figs/3neurons.png\" width=\"640\">\n",
    "\n",
    "\n"
   ]
  },
  {
   "cell_type": "code",
   "execution_count": 23,
   "metadata": {},
   "outputs": [
    {
     "data": {
      "text/plain": [
       "0.9900481981330957"
      ]
     },
     "execution_count": 23,
     "metadata": {},
     "output_type": "execute_result"
    }
   ],
   "source": [
    "weights = np.array([0.2,0.8])\n",
    "bias = 0\n",
    "n = Neuron(weights, bias)\n",
    "x = np.array([3,5])\n",
    "n.feedforward(x)"
   ]
  },
  {
   "cell_type": "code",
   "execution_count": 24,
   "metadata": {},
   "outputs": [
    {
     "data": {
      "text/plain": [
       "0.7290879223493065"
      ]
     },
     "execution_count": 24,
     "metadata": {},
     "output_type": "execute_result"
    }
   ],
   "source": [
    "weights = np.array([0.2,0.8])\n",
    "bias = 0\n",
    "n3= Neuron(weights, bias)\n",
    "x = np.array([0.99,0.99])\n",
    "n3.feedforward(x)"
   ]
  },
  {
   "cell_type": "markdown",
   "metadata": {},
   "source": [
    "## ANN Network\n",
    "Above code, we manually recycled previous definition of single neuron.\n",
    "we can also code it up as a network\n"
   ]
  },
  {
   "cell_type": "code",
   "execution_count": 27,
   "metadata": {},
   "outputs": [
    {
     "data": {
      "text/plain": [
       "0.7290974422779296"
      ]
     },
     "execution_count": 27,
     "metadata": {},
     "output_type": "execute_result"
    }
   ],
   "source": [
    "class ANN3:\n",
    "    '''\n",
    "    A neuron network with 3 neurons\n",
    "    2 input\n",
    "    a hidden layer with 2 neurons\n",
    "    a output layer with 1 neurons\n",
    "    each neuron has w as 0.2, 0.8\n",
    "    bias 0\n",
    "    '''\n",
    "    def __init__(self):\n",
    "        weights = np.array([0.2, 0.8])\n",
    "        bias = 0\n",
    "        self.h1 = Neuron(weights, bias)\n",
    "        self.h2 = Neuron(weights, bias)\n",
    "        self.o1 = Neuron(weights, bias)\n",
    "        \n",
    "    def feedforward(self, x):\n",
    "        out_h1 = self.h1.feedforward(x)\n",
    "        out_h2 = self.h2.feedforward(x)\n",
    "        \n",
    "        # the inputs to o1 are outputs from h1 and h2\n",
    "        out_o1 = self.o1.feedforward(np.array([out_h1, out_h2]))\n",
    "        return out_o1\n",
    "\n",
    "network = ANN3()\n",
    "x = np.array([3,5])\n",
    "network.feedforward(x)"
   ]
  },
  {
   "cell_type": "markdown",
   "metadata": {
    "toc-hr-collapsed": true
   },
   "source": [
    "# Learning and Loss Function\n",
    "\n"
   ]
  },
  {
   "cell_type": "markdown",
   "metadata": {},
   "source": [
    "## The meaning of learning\n",
    "\n",
    "Let's say we want to use the above network to do something useful.\n",
    "$x_1$ denotes the input of *weight*, $x_2$ denotes the input of *height*, we have a dataset that tabulate:\n",
    "```\n",
    "Name    Weight     Height     Gender\n",
    "Alice   -2         -1           1\n",
    "Bob      25         6           0\n",
    "Charlie  17         4           0 \n",
    "Diana    -15        -6          1\n",
    "```\n",
    "And we like to use above network to predict that given weight and height, what is the gender?\n",
    "\n",
    "The only parameters we can control is weight: the path way to figure out what weights to use is the process of **learning**.\n",
    "\n",
    "\n"
   ]
  },
  {
   "cell_type": "markdown",
   "metadata": {},
   "source": [
    "## The goal of learning\n",
    "\n",
    "To drive this learning process, we need to define a loss function. \n",
    "\n",
    "The goal to have this loss function is to minimize it until no more room (optimal).\n",
    "\n",
    "\n"
   ]
  },
  {
   "cell_type": "markdown",
   "metadata": {},
   "source": [
    "## MSE: Mean Squared Error\n",
    "\n",
    "$$ \\text{MSE} = \\frac{1}{n} \\sum_{i=1}^{n} (y_{\\text{true}} - y_{\\text{pred}})^2$$\n",
    "\n",
    "* $n$ is the total number of observations\n",
    "* $y_{\\text{pred}}$: predicted outcome\n",
    "* $y_{\\text{true}}$: ground truth\n",
    "\n",
    "Better prediction means lower loss;\n",
    "\n",
    "Training network means find out a set of weights that can minimize the loss\n"
   ]
  },
  {
   "cell_type": "code",
   "execution_count": 2,
   "metadata": {},
   "outputs": [
    {
     "data": {
      "text/plain": [
       "0.5"
      ]
     },
     "execution_count": 2,
     "metadata": {},
     "output_type": "execute_result"
    }
   ],
   "source": [
    "import numpy as np\n",
    "def mse_loss(y_true, y_pred):\n",
    "    # y_true and y_pred are numpy arrays of the same length\n",
    "    return ((y_true - y_pred)** 2).mean()\n",
    "\n",
    "y_true = np.array([1,0,0,1])\n",
    "y_pred = np.array([0,0,0,0])\n",
    "mse_loss(y_true, y_pred)"
   ]
  },
  {
   "cell_type": "markdown",
   "metadata": {},
   "source": [
    "# Gradient Descent\n",
    "\n",
    "GD is the systematic way of minimizing loss.\n",
    "\n",
    "![](figs/3neurons2.png)\n",
    "\n",
    "In this case, the loss function is a multivariate function:\n",
    "\n",
    "$$L(w_1, w_2, w_3, w_4, w_5, b_1, b_2, b_3)$$\n",
    "\n",
    "\n",
    "The question is: how would $L$ change if we want to change $w_1$? This is a question can be answered by partial derivative: $$\\frac{\\partial L}{\\partial w_1}$$.\n",
    "\n",
    "\n",
    "Assume we have ONE sample in the dataset:\n",
    "\n",
    "```\n",
    "Name    Weight     Height     Gender\n",
    "Alice   -2         -1           1\n",
    "```\n",
    "\n",
    "\n",
    "Then\n",
    "\\begin{align}\n",
    "\\rm{MSE} &= \\frac{1}{1} \\sum_{i=1}^1(y_{\\rm{true}} - y_{\\rm{pred}})^2 \\\\\n",
    "         &= (y_{\\rm{true}} - y_{\\rm{pred}})^2 \\\\\n",
    "         &= (1 - y_{\\rm{pred}})^2\n",
    "\\end{align}\n",
    "\n",
    "We can compute $\\frac{\\partial L}{\\partial y_{\\rm pred}}$ as:\n",
    "\n",
    "$$ \\frac{\\partial L}{\\partial y_{pred}} = \\frac{\\partial (1-y_{pred})^2}{\\partial y_{pred}} = -2(1-y_{pred}) $$\n",
    "\n",
    "\n",
    "We now figure out: $\\frac{\\partial y_{pred}}{\\partial w_1}$:\n",
    "\n",
    "We use $h_1, h_2, o_1$ be the outputs of the neurons they represent. So in this case:\n",
    "\n",
    "$$y_{pred} = o_1 = f(w_5 h_1 + w_6 h_2 + b_3)$$\n",
    "\n",
    "Since $w_1$ only affects $h_1$ (not $h_2$), then:\n",
    "\n",
    "$$\\frac{\\partial y_{pred}}{\\partial w_1} = \\frac{\\partial y_{pred}}{\\partial h_1} * \\frac{\\partial h_1}{\\partial w_1}$$\n",
    "\n",
    "And \n",
    "\n",
    "$$\\frac{\\partial y_{pred}}{\\partial h_1} = w_5 * f'(w_5 h_1 + w_6 h_2 + b_3)$$\n",
    "\n",
    "We also know:\n",
    "\n",
    "$$ h_1 = f(w_1 x_1 + w_2 x_2 + b_1)$$\n",
    "\n",
    "Therefore:\n",
    "\n",
    "$$\\frac{\\partial h_1}{\\partial w_1} = x_1 * f'(w_1 x_1 + w_2 x_2 + b_1)$$\n",
    "\n",
    "And, $x_1$ is weight, $x_2$ is height. \n",
    "\n",
    "$$ f'(x) = \\frac{e^{-x}}{(1 + e^{-x})^2} = f(x) * (1 - f(x))$$\n",
    "\n",
    "\n",
    "Finally, we come back to the earlier question: how does $L$ changes when $w_1$ changes?\n",
    "\n",
    "$$ \\frac{\\partial L}{\\partial w_1} = \\frac{\\partial L}{\\partial y_{pred}} * \\frac{\\partial y_{pred}}{\\partial w_1}$$\n",
    "\n",
    "We have calculated both terms (to the degree that this can be calcuated). \n",
    "\n",
    "\n",
    "![](figs/manual_derive.png)\n",
    "\n",
    "We can initialize all weights to be 1 and all bias to be 0, then manually calulate:\n",
    "\n",
    "$$h_1 = 0.0474, h_2 = 0.524$$\n",
    "\n",
    "\\begin{align}\n",
    "\\frac{\\partial L}{\\partial y_{pred}} &= -2(1-y_{pred}) = -0.952 \\\\\n",
    "\\frac{\\partial y_{pred}}{\\partial h_1} &= w_5 * f'(w_5 h_1 + w_6 h_2 + b_3) = 0.249$$ \\\\\n",
    "\\frac{\\partial h_1}{\\partial w_1} &= x_1 * f'(w_1 x_1 + w_2 x_2 + b_1) = -0.0904 \\\\\n",
    "\\frac{\\partial L}{\\partial w_1} &= 0.0214 \n",
    "\\end{align}"
   ]
  },
  {
   "cell_type": "markdown",
   "metadata": {
    "toc-hr-collapsed": true
   },
   "source": [
    "# Training: Stochastic Gradient Descent\n",
    "\n",
    "SGD tells us how to update weights and bias to minimize loss. To update:\n",
    "\n",
    "$$ w_1 \\leftarrow w_1 - \\eta \\frac{\\partial L}{\\partial w_1}$$\n",
    "\n",
    "$\\eta$ is famously known as the learning rate.\n",
    "\n",
    "The update formula says:\n",
    "\n",
    "* If $\\frac{\\partial L}{\\partial w_1}$ is positive, then $w_1$ will decrease, which make $L$ descrease.\n",
    "*  If $\\frac{\\partial L}{\\partial w_1}$ is negative, then $w_1$ will increase, which make $L$ descrease"
   ]
  },
  {
   "cell_type": "markdown",
   "metadata": {},
   "source": [
    "## training process\n",
    "\n",
    "1. Choose one sample from dataset, that is what \"stochastic\" means.\n",
    "2. Calcualte all partial derivative of loss with respect to weights or bias\n",
    "3. Use update equation to update EACH weight and bias\n",
    "4. Go back to step 1.\n"
   ]
  },
  {
   "cell_type": "markdown",
   "metadata": {},
   "source": [
    "## Code it up (version 0)"
   ]
  },
  {
   "cell_type": "code",
   "execution_count": 57,
   "metadata": {},
   "outputs": [
    {
     "name": "stdout",
     "output_type": "stream",
     "text": [
      "Emily: 0.967\n",
      "Frank: 0.057\n"
     ]
    },
    {
     "data": {
      "text/plain": [
       "[<matplotlib.lines.Line2D at 0x7ff658e4d320>]"
      ]
     },
     "execution_count": 57,
     "metadata": {},
     "output_type": "execute_result"
    },
    {
     "data": {
      "image/png": "[encoded data removed]",
      "text/plain": [
       "<Figure size 432x288 with 1 Axes>"
      ]
     },
     "metadata": {
      "needs_background": "light"
     },
     "output_type": "display_data"
    }
   ],
   "source": [
    "# %load ann3_ver0.py\n",
    "#%%\n",
    "import numpy as np\n",
    "import matplotlib.pyplot as plt\n",
    "# %matplotlib inline\n",
    "\n",
    "def sigmoid(x):\n",
    "    return 1/(1 + np.exp(-x))\n",
    "\n",
    "def deriv_sigmoid(x):\n",
    "    fx = sigmoid(x)\n",
    "    return fx * (1 - fx)\n",
    "\n",
    "def mse_loss(y_true, y_pred):\n",
    "    # y_true and y_pred are numpy arrays of the same length\n",
    "    return ((y_true - y_pred)** 2).mean()\n",
    "\n",
    "class ANN3:\n",
    "    '''\n",
    "    2 inputs, a hidden layer, a output layer, see above graph for details\n",
    "    '''\n",
    "    def __init__(self):\n",
    "        # self.w1, self.w2, self.w3,self.w4,self.w5,self.w6 = np.random.randn(6)\n",
    "        # self.b1, self.b2, self.b3 = np.random.randn(3)\n",
    "        self.w1, self.w2, self.w3,self.w4,self.w5,self.w6 = np.repeat(0,6)\n",
    "        self.b1, self.b2, self.b3 = np.repeat(0, 3)\n",
    "        self.losses = []\n",
    "        self.epochs = []\n",
    "\n",
    "    def feedforward(self,x):\n",
    "        # x is 2-element array\n",
    "        h1 = sigmoid(self.w1 * x[0] + self.w2 * x[1] + self.b1)\n",
    "        h2 = sigmoid(self.w3 * x[0] + self.w4 * x[1] + self.b2)\n",
    "        o1 = sigmoid(self.w5 * h1 + self.w6 * h2 + self.b3)\n",
    "        return o1\n",
    "    \n",
    "    def train(self, data, y_trues):\n",
    "        '''\n",
    "        data is (nx2) array, n is number of samples, two element is weight and height\n",
    "        y_trues is the corresponding ground truth for each sample\n",
    "        '''\n",
    "        lr = 0.1 # learning rate\n",
    "        epoches = 1000 # number of times to loop through the entire dataset\n",
    "        for epoch in range(epoches):\n",
    "            for x, y_true in zip(data, y_trues):\n",
    "                \n",
    "                # -----\n",
    "                # do feedforward\n",
    "                # -----\n",
    "                sum_h1 = self.w1 * x[0] + self.w2 * x[1] + self.b1\n",
    "                h1 = sigmoid(sum_h1)\n",
    "                \n",
    "                sum_h2 = self.w3 * x[0] + self.w4 * x[1] + self.b2\n",
    "                h2 = sigmoid(sum_h2)\n",
    "                \n",
    "                sum_o1 = self.w5 * h1 + self.w6 * h2 + self.b3\n",
    "                o1 = sigmoid(sum_o1)\n",
    "                \n",
    "                y_pred = o1\n",
    "                \n",
    "                # -----\n",
    "                # do paritial derivative\n",
    "                # naming: d_L_d_w1 represents \"partial L / partial w1\"\n",
    "                # -----\n",
    "                \n",
    "                d_L_d_ypred = -2 * (y_true - y_pred)\n",
    "                \n",
    "                # Neuron o1\n",
    "                d_ypred_d_w5 = h1 * deriv_sigmoid(sum_o1)\n",
    "                d_ypred_d_w6 = h2 * deriv_sigmoid(sum_o1)\n",
    "                d_ypred_d_b3 = deriv_sigmoid(sum_o1)\n",
    "                \n",
    "                d_ypred_d_h1 = self.w5 * deriv_sigmoid(sum_o1)\n",
    "                d_ypred_d_h2 = self.w6 * deriv_sigmoid(sum_o1)\n",
    "                \n",
    "                # Neuron h1\n",
    "                d_h1_d_w1 = x[0] * deriv_sigmoid(sum_h1)\n",
    "                d_h1_d_w2 = x[1] * deriv_sigmoid(sum_h1)\n",
    "                d_h1_d_b1 = deriv_sigmoid(sum_h1)\n",
    "                \n",
    "                # Neuron h2\n",
    "                d_h2_d_w3 = x[0] * deriv_sigmoid(sum_h2)\n",
    "                d_h2_d_w4 = x[1] * deriv_sigmoid(sum_h2)\n",
    "                d_h2_d_b2 = deriv_sigmoid(sum_h2)\n",
    "                \n",
    "                # ------\n",
    "                # update weights and bias\n",
    "                # ------\n",
    "            \n",
    "                # Neuron h1\n",
    "                self.w1 -= lr * d_L_d_ypred * d_ypred_d_h1 * d_h1_d_w1\n",
    "                self.w2 -= lr * d_L_d_ypred * d_ypred_d_h1 * d_h1_d_w2\n",
    "                self.b1 -= lr * d_L_d_ypred * d_ypred_d_h1 * d_h1_d_b1\n",
    "                \n",
    "                # Neuron h2\n",
    "                self.w3 -= lr * d_L_d_ypred * d_ypred_d_h2 * d_h2_d_w3\n",
    "                self.w4 -= lr * d_L_d_ypred * d_ypred_d_h2 * d_h2_d_w4\n",
    "                self.b2 -= lr * d_L_d_ypred * d_ypred_d_h2 * d_h2_d_b2\n",
    "                \n",
    "                # Neuron o1\n",
    "                self.w5 -= lr * d_L_d_ypred * d_ypred_d_w5\n",
    "                self.w6 -= lr * d_L_d_ypred * d_ypred_d_w6\n",
    "                self.b3 -= lr * d_L_d_ypred * d_ypred_d_b3\n",
    "                \n",
    "            # --- calculate total loss at the end of each epoch\n",
    "            if epoch % 10 == 0:\n",
    "                y_preds = np.apply_along_axis(self.feedforward, 1, data)\n",
    "                loss = mse_loss(y_trues, y_preds)\n",
    "                # print(\"Epoch %d loss: %.3f\" % (epoch, loss))\n",
    "                self.losses.append(loss)\n",
    "                self.epochs.append(epoch)\n",
    "\n",
    "# define dataset\n",
    "\n",
    "data = np.array([\n",
    "    [-2, -1], # Alice\n",
    "    [25,6], # Bob\n",
    "    [17, 4], # Charlie\n",
    "    [-15, -6], # Diana\n",
    "])\n",
    "y_trues = np.array([\n",
    "    1, # alice\n",
    "    0, # bob\n",
    "    0, # charlie\n",
    "    1, # diana\n",
    "])\n",
    "\n",
    "# Training our NN\n",
    "network = ANN3()\n",
    "network.train(data, y_trues)\n",
    "\n",
    "# Make some predictions\n",
    "emily = np.array([-7, -3])  # 128 pounds, 63 inches\n",
    "frank = np.array([20, 2])  # 155 pounds, 68 inches\n",
    "\n",
    "print(\"Emily: %.3f\" % network.feedforward(emily))\n",
    "print(\"Frank: %.3f\" % network.feedforward(frank))\n",
    "\n",
    "plt.plot(network.epochs, network.losses)\n"
   ]
  },
  {
   "cell_type": "markdown",
   "metadata": {},
   "source": [
    "# References"
   ]
  },
  {
   "cell_type": "markdown",
   "metadata": {},
   "source": [
    "1. https://victorzhou.com/blog/intro-to-neural-networks/\n",
    "2. \n"
   ]
  },
  {
   "cell_type": "code",
   "execution_count": null,
   "metadata": {},
   "outputs": [],
   "source": []
  }
 ],
 "metadata": {
  "kernelspec": {
   "display_name": "Python 3",
   "language": "python",
   "name": "python3"
  },
  "language_info": {
   "codemirror_mode": {
    "name": "ipython",
    "version": 3
   },
   "file_extension": ".py",
   "mimetype": "text/x-python",
   "name": "python",
   "nbconvert_exporter": "python",
   "pygments_lexer": "ipython3",
   "version": "3.7.3"
  }
 },
 "nbformat": 4,
 "nbformat_minor": 4
}